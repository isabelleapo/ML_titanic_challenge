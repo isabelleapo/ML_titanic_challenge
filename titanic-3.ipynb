{
 "cells": [
  {
   "cell_type": "code",
   "execution_count": 1,
   "metadata": {
    "_cell_guid": "b1076dfc-b9ad-4769-8c92-a6c4dae69d19",
    "_uuid": "8f2839f25d086af736a60e9eeb907d3b93b6e0e5"
   },
   "outputs": [
    {
     "name": "stdout",
     "output_type": "stream",
     "text": [
      "/kaggle/input/titanic/gender_submission.csv\n",
      "/kaggle/input/titanic/test.csv\n",
      "/kaggle/input/titanic/train.csv\n"
     ]
    }
   ],
   "source": [
    "# This Python 3 environment comes with many helpful analytics libraries installed\n",
    "# It is defined by the kaggle/python docker image: https://github.com/kaggle/docker-python\n",
    "# For example, here's several helpful packages to load in \n",
    "\n",
    "import numpy as np # linear algebra\n",
    "import pandas as pd # data processing, CSV file I/O (e.g. pd.read_csv)\n",
    "import matplotlib, matplotlib.pyplot as plt\n",
    "\n",
    "# Input data files are available in the \"../input/\" directory.\n",
    "# For example, running this (by clicking run or pressing Shift+Enter) will list all files under the input directory\n",
    "\n",
    "import os\n",
    "for dirname, _, filenames in os.walk('/kaggle/input'):\n",
    "    for filename in filenames:\n",
    "        print(os.path.join(dirname, filename))\n",
    "\n",
    "# Any results you write to the current directory are saved as output."
   ]
  },
  {
   "cell_type": "code",
   "execution_count": 2,
   "metadata": {
    "_cell_guid": "79c7e3d0-c299-4dcb-8224-4455121ee9b0",
    "_uuid": "d629ff2d2480ee46fbb7e2d37f6b5fab8052498a"
   },
   "outputs": [],
   "source": [
    "X = pd.read_csv('/kaggle/input/titanic/train.csv')\n",
    "X_test = pd.read_csv('/kaggle/input/titanic/test.csv')"
   ]
  },
  {
   "cell_type": "code",
   "execution_count": 3,
   "metadata": {},
   "outputs": [],
   "source": [
    "sex_describe = X.pivot_table(index='Sex', values='Survived')"
   ]
  },
  {
   "cell_type": "code",
   "execution_count": 4,
   "metadata": {},
   "outputs": [
    {
     "data": {
      "text/plain": [
       "<matplotlib.axes._subplots.AxesSubplot at 0x7faaf2882940>"
      ]
     },
     "execution_count": 4,
     "metadata": {},
     "output_type": "execute_result"
    },
    {
     "data": {
      "image/png": "[encoded data removed]",
      "text/plain": [
       "<Figure size 432x288 with 1 Axes>"
      ]
     },
     "metadata": {
      "needs_background": "light"
     },
     "output_type": "display_data"
    }
   ],
   "source": [
    "sex_describe.plot.bar()\n",
    "\n",
    "#more women survived than children"
   ]
  },
  {
   "cell_type": "code",
   "execution_count": 5,
   "metadata": {},
   "outputs": [],
   "source": [
    "class_describe = X.pivot_table(index='Pclass', values='Survived')"
   ]
  },
  {
   "cell_type": "code",
   "execution_count": 6,
   "metadata": {},
   "outputs": [
    {
     "data": {
      "text/plain": [
       "<matplotlib.axes._subplots.AxesSubplot at 0x7faaf0774860>"
      ]
     },
     "execution_count": 6,
     "metadata": {},
     "output_type": "execute_result"
    },
    {
     "data": {
      "image/png": "[encoded data removed]",
      "text/plain": [
       "<Figure size 432x288 with 1 Axes>"
      ]
     },
     "metadata": {
      "needs_background": "light"
     },
     "output_type": "display_data"
    }
   ],
   "source": [
    "class_describe.plot.bar()\n",
    "#as expected more first class survive - should this be set as a categorical variable though,\n",
    "#since 3 is a lower class than 1 - its nominal not ordinal"
   ]
  },
  {
   "cell_type": "code",
   "execution_count": 7,
   "metadata": {},
   "outputs": [
    {
     "data": {
      "text/plain": [
       "count    714.000000\n",
       "mean      29.699118\n",
       "std       14.526497\n",
       "min        0.420000\n",
       "25%       20.125000\n",
       "50%       28.000000\n",
       "75%       38.000000\n",
       "max       80.000000\n",
       "Name: Age, dtype: float64"
      ]
     },
     "execution_count": 7,
     "metadata": {},
     "output_type": "execute_result"
    }
   ],
   "source": [
    "X.Age.describe() # we have missing values, 714"
   ]
  },
  {
   "cell_type": "code",
   "execution_count": 8,
   "metadata": {},
   "outputs": [],
   "source": [
    "survived = X[X.Survived == 1]\n",
    "dead = X[X.Survived == 0]"
   ]
  },
  {
   "cell_type": "code",
   "execution_count": 9,
   "metadata": {},
   "outputs": [],
   "source": [
    "#plt.hist(dead['Sex'])"
   ]
  },
  {
   "cell_type": "code",
   "execution_count": 10,
   "metadata": {},
   "outputs": [
    {
     "name": "stderr",
     "output_type": "stream",
     "text": [
      "/opt/conda/lib/python3.6/site-packages/numpy/lib/histograms.py:839: RuntimeWarning: invalid value encountered in greater_equal\n",
      "  keep = (tmp_a >= first_edge)\n",
      "/opt/conda/lib/python3.6/site-packages/numpy/lib/histograms.py:840: RuntimeWarning: invalid value encountered in less_equal\n",
      "  keep &= (tmp_a <= last_edge)\n"
     ]
    },
    {
     "data": {
      "text/plain": [
       "(array([12.,  3.,  0.,  5.,  7.,  4.,  0.,  2.,  1.,  2.,  2.,  0.,  0.,\n",
       "         1.,  1.,  2.,  0.,  3.,  4.,  6.,  6.,  0.,  9.,  9.,  3.,  5.,\n",
       "         0., 11.,  5., 15.,  6.,  0.,  6., 11.,  7.,  8.,  0., 10.,  8.,\n",
       "         9.,  7.,  0.,  6., 11., 11.,  1.,  0.,  5.,  5.,  6.,  2.,  0.,\n",
       "         6.,  1.,  3.,  0.,  5.,  0.,  1.,  6.,  0.,  4.,  5.,  2.,  3.,\n",
       "         0.,  1.,  3.,  1.,  2.,  0.,  0.,  3.,  0.,  2.,  0.,  0.,  2.,\n",
       "         2.,  0.,  0.,  0.,  0.,  0.,  0.,  0.,  0.,  0.,  0.,  0.,  0.,\n",
       "         0.,  0.,  0.,  0.,  0.,  0.,  0.,  0.,  1.]),\n",
       " array([ 0.42  ,  1.2158,  2.0116,  2.8074,  3.6032,  4.399 ,  5.1948,\n",
       "         5.9906,  6.7864,  7.5822,  8.378 ,  9.1738,  9.9696, 10.7654,\n",
       "        11.5612, 12.357 , 13.1528, 13.9486, 14.7444, 15.5402, 16.336 ,\n",
       "        17.1318, 17.9276, 18.7234, 19.5192, 20.315 , 21.1108, 21.9066,\n",
       "        22.7024, 23.4982, 24.294 , 25.0898, 25.8856, 26.6814, 27.4772,\n",
       "        28.273 , 29.0688, 29.8646, 30.6604, 31.4562, 32.252 , 33.0478,\n",
       "        33.8436, 34.6394, 35.4352, 36.231 , 37.0268, 37.8226, 38.6184,\n",
       "        39.4142, 40.21  , 41.0058, 41.8016, 42.5974, 43.3932, 44.189 ,\n",
       "        44.9848, 45.7806, 46.5764, 47.3722, 48.168 , 48.9638, 49.7596,\n",
       "        50.5554, 51.3512, 52.147 , 52.9428, 53.7386, 54.5344, 55.3302,\n",
       "        56.126 , 56.9218, 57.7176, 58.5134, 59.3092, 60.105 , 60.9008,\n",
       "        61.6966, 62.4924, 63.2882, 64.084 , 64.8798, 65.6756, 66.4714,\n",
       "        67.2672, 68.063 , 68.8588, 69.6546, 70.4504, 71.2462, 72.042 ,\n",
       "        72.8378, 73.6336, 74.4294, 75.2252, 76.021 , 76.8168, 77.6126,\n",
       "        78.4084, 79.2042, 80.    ]),\n",
       " <a list of 100 Patch objects>)"
      ]
     },
     "execution_count": 10,
     "metadata": {},
     "output_type": "execute_result"
    },
    {
     "data": {
      "image/png": "[encoded data removed]",
      "text/plain": [
       "<Figure size 432x288 with 1 Axes>"
      ]
     },
     "metadata": {
      "needs_background": "light"
     },
     "output_type": "display_data"
    }
   ],
   "source": [
    "plt.hist(dead['Age'], bins=100, color='r', alpha=0.5)\n",
    "plt.hist(survived['Age'], bins=100, color='b', alpha=0.5)"
   ]
  },
  {
   "cell_type": "code",
   "execution_count": 11,
   "metadata": {},
   "outputs": [],
   "source": [
    "# above shows that around <1 year of age, there is a much greater chance of survival. \n",
    "# age 20 - 30s died a lot"
   ]
  },
  {
   "cell_type": "code",
   "execution_count": 12,
   "metadata": {},
   "outputs": [],
   "source": [
    "def comp_age(df, cutoffs, labels):\n",
    "    df['Age_fill'] = df['Age'].fillna(-0.5)\n",
    "    df['Age_cats'] = pd.cut(df['Age_fill'], cutoffs, labels=labels)\n",
    "    return df"
   ]
  },
  {
   "cell_type": "code",
   "execution_count": 13,
   "metadata": {},
   "outputs": [],
   "source": [
    "cutoffs = [-1, 0, 5, 12, 18, 30, 60, 100]\n",
    "labels = ['Missing', 'Infant', 'Child', 'Teenager','Young_adult', 'Adult', 'Elderly']\n",
    "X = comp_age(X, cutoffs, labels)"
   ]
  },
  {
   "cell_type": "code",
   "execution_count": 14,
   "metadata": {},
   "outputs": [],
   "source": [
    "age_pivot = X.pivot_table(index='Age_cats', values='Survived')"
   ]
  },
  {
   "cell_type": "code",
   "execution_count": 15,
   "metadata": {},
   "outputs": [
    {
     "data": {
      "text/plain": [
       "<matplotlib.axes._subplots.AxesSubplot at 0x7faaf04a4f60>"
      ]
     },
     "execution_count": 15,
     "metadata": {},
     "output_type": "execute_result"
    },
    {
     "data": {
      "image/png": "[encoded data removed]",
      "text/plain": [
       "<Figure size 432x288 with 1 Axes>"
      ]
     },
     "metadata": {
      "needs_background": "light"
     },
     "output_type": "display_data"
    }
   ],
   "source": [
    "age_pivot.plot.bar()"
   ]
  },
  {
   "cell_type": "code",
   "execution_count": 16,
   "metadata": {},
   "outputs": [],
   "source": [
    "#yes we can see that like in movie infants survive most\n"
   ]
  },
  {
   "cell_type": "code",
   "execution_count": 17,
   "metadata": {},
   "outputs": [
    {
     "data": {
      "text/plain": [
       "0    678\n",
       "1    118\n",
       "2     80\n",
       "5      5\n",
       "3      5\n",
       "4      4\n",
       "6      1\n",
       "Name: Parch, dtype: int64"
      ]
     },
     "execution_count": 17,
     "metadata": {},
     "output_type": "execute_result"
    }
   ],
   "source": [
    "X.Parch.value_counts()\n",
    "# Most people had no kids, 1 or 2 kids was second most popular"
   ]
  },
  {
   "cell_type": "code",
   "execution_count": 18,
   "metadata": {},
   "outputs": [],
   "source": [
    "parch_pivot = X.pivot_table(index='Parch', values='Survived')"
   ]
  },
  {
   "cell_type": "code",
   "execution_count": 19,
   "metadata": {},
   "outputs": [
    {
     "data": {
      "text/plain": [
       "<matplotlib.axes._subplots.AxesSubplot at 0x7faaf044ea58>"
      ]
     },
     "execution_count": 19,
     "metadata": {},
     "output_type": "execute_result"
    },
    {
     "data": {
      "image/png": "[encoded data removed]",
      "text/plain": [
       "<Figure size 432x288 with 1 Axes>"
      ]
     },
     "metadata": {
      "needs_background": "light"
     },
     "output_type": "display_data"
    }
   ],
   "source": [
    "parch_pivot.plot.bar()\n",
    "#More likely to survive if you have a parent or child on board?\n"
   ]
  },
  {
   "cell_type": "code",
   "execution_count": 20,
   "metadata": {},
   "outputs": [
    {
     "data": {
      "text/plain": [
       "<matplotlib.axes._subplots.AxesSubplot at 0x7faaf03bf860>"
      ]
     },
     "execution_count": 20,
     "metadata": {},
     "output_type": "execute_result"
    },
    {
     "data": {
      "image/png": "[encoded data removed]",
      "text/plain": [
       "<Figure size 432x288 with 1 Axes>"
      ]
     },
     "metadata": {
      "needs_background": "light"
     },
     "output_type": "display_data"
    }
   ],
   "source": [
    "sibsp_pivot = X.pivot_table(index='SibSp', values='Survived')\n",
    "sibsp_pivot.plot.bar()"
   ]
  },
  {
   "cell_type": "code",
   "execution_count": 21,
   "metadata": {},
   "outputs": [
    {
     "data": {
      "text/plain": [
       "(array([ 1., 66., 50., 27., 16., 51., 11.,  7.,  2.,  2., 15., 12.,  4.,\n",
       "         4.,  5., 13.,  8.,  7.,  2.,  0.,  1.,  4.,  2.,  4.,  0.,  0.,\n",
       "         6.,  0.,  2.,  4.,  0.,  0.,  2.,  0.,  0.,  0.,  0.,  0.,  0.,\n",
       "         0.,  0.,  3.,  0.,  0.,  3.,  0.,  0.,  0.,  1.,  0.,  0.,  4.,\n",
       "         0.,  0.,  0.,  0.,  0.,  0.,  0.,  0.,  0.,  0.,  0.,  0.,  0.,\n",
       "         0.,  0.,  0.,  0.,  0.,  0.,  0.,  0.,  0.,  0.,  0.,  0.,  0.,\n",
       "         0.,  0.,  0.,  0.,  0.,  0.,  0.,  0.,  0.,  0.,  0.,  0.,  0.,\n",
       "         0.,  0.,  0.,  0.,  0.,  0.,  0.,  0.,  3.]),\n",
       " array([  0.      ,   5.123292,  10.246584,  15.369876,  20.493168,\n",
       "         25.61646 ,  30.739752,  35.863044,  40.986336,  46.109628,\n",
       "         51.23292 ,  56.356212,  61.479504,  66.602796,  71.726088,\n",
       "         76.84938 ,  81.972672,  87.095964,  92.219256,  97.342548,\n",
       "        102.46584 , 107.589132, 112.712424, 117.835716, 122.959008,\n",
       "        128.0823  , 133.205592, 138.328884, 143.452176, 148.575468,\n",
       "        153.69876 , 158.822052, 163.945344, 169.068636, 174.191928,\n",
       "        179.31522 , 184.438512, 189.561804, 194.685096, 199.808388,\n",
       "        204.93168 , 210.054972, 215.178264, 220.301556, 225.424848,\n",
       "        230.54814 , 235.671432, 240.794724, 245.918016, 251.041308,\n",
       "        256.1646  , 261.287892, 266.411184, 271.534476, 276.657768,\n",
       "        281.78106 , 286.904352, 292.027644, 297.150936, 302.274228,\n",
       "        307.39752 , 312.520812, 317.644104, 322.767396, 327.890688,\n",
       "        333.01398 , 338.137272, 343.260564, 348.383856, 353.507148,\n",
       "        358.63044 , 363.753732, 368.877024, 374.000316, 379.123608,\n",
       "        384.2469  , 389.370192, 394.493484, 399.616776, 404.740068,\n",
       "        409.86336 , 414.986652, 420.109944, 425.233236, 430.356528,\n",
       "        435.47982 , 440.603112, 445.726404, 450.849696, 455.972988,\n",
       "        461.09628 , 466.219572, 471.342864, 476.466156, 481.589448,\n",
       "        486.71274 , 491.836032, 496.959324, 502.082616, 507.205908,\n",
       "        512.3292  ]),\n",
       " <a list of 100 Patch objects>)"
      ]
     },
     "execution_count": 21,
     "metadata": {},
     "output_type": "execute_result"
    },
    {
     "data": {
      "image/png": "[encoded data removed]",
      "text/plain": [
       "<Figure size 432x288 with 1 Axes>"
      ]
     },
     "metadata": {
      "needs_background": "light"
     },
     "output_type": "display_data"
    }
   ],
   "source": [
    "plt.hist(dead['Fare'], bins=100, color='r',alpha=0.5)\n",
    "plt.hist(survived['Fare'], bins=100, color='b',alpha=0.5)"
   ]
  },
  {
   "cell_type": "code",
   "execution_count": 22,
   "metadata": {},
   "outputs": [],
   "source": [
    "#it appear that cheaper fares resulted in higher death rate which\n",
    "#makes intuitive sense since lower class ticket = lower fare"
   ]
  },
  {
   "cell_type": "code",
   "execution_count": 23,
   "metadata": {},
   "outputs": [
    {
     "data": {
      "text/plain": [
       "PassengerId    False\n",
       "Survived       False\n",
       "Pclass         False\n",
       "Name           False\n",
       "Sex            False\n",
       "Age             True\n",
       "SibSp          False\n",
       "Parch          False\n",
       "Ticket         False\n",
       "Fare           False\n",
       "Cabin           True\n",
       "Embarked        True\n",
       "Age_fill       False\n",
       "Age_cats       False\n",
       "dtype: bool"
      ]
     },
     "execution_count": 23,
     "metadata": {},
     "output_type": "execute_result"
    }
   ],
   "source": [
    "X.isnull().any()"
   ]
  },
  {
   "cell_type": "markdown",
   "metadata": {},
   "source": [
    "## Now start building model"
   ]
  },
  {
   "cell_type": "code",
   "execution_count": 24,
   "metadata": {},
   "outputs": [],
   "source": [
    "\n",
    "X['Survived'].dropna(axis =0, inplace=True)\n",
    "y = X.Survived\n",
    "X.drop(columns='Survived', inplace=True)"
   ]
  },
  {
   "cell_type": "code",
   "execution_count": 25,
   "metadata": {},
   "outputs": [],
   "source": [
    "from sklearn.model_selection import train_test_split\n",
    "from sklearn.ensemble import RandomForestRegressor\n",
    "from sklearn.metrics import mean_absolute_error\n",
    "from sklearn.compose import ColumnTransformer\n",
    "from sklearn.pipeline import Pipeline\n",
    "from sklearn.impute import SimpleImputer\n",
    "from sklearn.preprocessing import OneHotEncoder"
   ]
  },
  {
   "cell_type": "code",
   "execution_count": 26,
   "metadata": {},
   "outputs": [],
   "source": [
    "X_train, X_val, y_train, y_val = train_test_split(X, y, random_state = 1)"
   ]
  },
  {
   "cell_type": "code",
   "execution_count": 27,
   "metadata": {},
   "outputs": [],
   "source": [
    "\n",
    "def get_mae(model, X_train, X_val, y_train, y_val):\n",
    "    pipeline.fit(X_train, y_train)\n",
    "    predictions = pipeline.predict(X_val)\n",
    "    score = mean_absolute_error(predictions - y_val)\n",
    "    return predictions, score"
   ]
  },
  {
   "cell_type": "code",
   "execution_count": 28,
   "metadata": {},
   "outputs": [
    {
     "data": {
      "text/plain": [
       "Age    True\n",
       "dtype: bool"
      ]
     },
     "execution_count": 28,
     "metadata": {},
     "output_type": "execute_result"
    }
   ],
   "source": [
    "numerical_cols = ['Age']\n",
    "cat_cols = ['Sex','Parch','Pclass']\n",
    "\n",
    "X[numerical_cols].isnull().any()"
   ]
  },
  {
   "cell_type": "code",
   "execution_count": 29,
   "metadata": {},
   "outputs": [
    {
     "data": {
      "text/plain": [
       "Sex       False\n",
       "Parch     False\n",
       "Pclass    False\n",
       "dtype: bool"
      ]
     },
     "execution_count": 29,
     "metadata": {},
     "output_type": "execute_result"
    }
   ],
   "source": [
    "X[cat_cols].isnull().any()"
   ]
  },
  {
   "cell_type": "code",
   "execution_count": 30,
   "metadata": {},
   "outputs": [],
   "source": [
    "categorical_processor = Pipeline(steps=[('onehot', OneHotEncoder(handle_unknown='ignore', sparse=False))])"
   ]
  },
  {
   "cell_type": "code",
   "execution_count": 31,
   "metadata": {},
   "outputs": [],
   "source": [
    "preprocessor = ColumnTransformer([\n",
    "                    ('categorical',categorical_processor, cat_cols)\n",
    "                ])"
   ]
  },
  {
   "cell_type": "code",
   "execution_count": 32,
   "metadata": {},
   "outputs": [],
   "source": [
    "from sklearn.metrics import mean_absolute_error\n",
    "\n",
    "# Bundle preprocessing and modeling code in a pipeline\n",
    "\n",
    "model = RandomForestRegressor(n_estimators=100, random_state=1)\n",
    "pipeline = Pipeline(steps=[('preprocessor', preprocessor),\n",
    "                              ('model', model)\n",
    "                             ])\n",
    "\n",
    "def get_mae(pipeline, X_train, X_val, y_train, y_val):\n",
    "    pipeline.fit(X_train, y_train)\n",
    "    predictions = pipeline.predict(X_val)\n",
    "    score = mean_absolute_error(predictions, y_val)\n",
    "    return score\n",
    "    print(score)"
   ]
  },
  {
   "cell_type": "code",
   "execution_count": 33,
   "metadata": {},
   "outputs": [
    {
     "data": {
      "text/plain": [
       "0.2941404785676598"
      ]
     },
     "execution_count": 33,
     "metadata": {},
     "output_type": "execute_result"
    }
   ],
   "source": [
    "get_mae(pipeline, X_train, X_val, y_train, y_val)"
   ]
  },
  {
   "cell_type": "code",
   "execution_count": 34,
   "metadata": {},
   "outputs": [
    {
     "name": "stdout",
     "output_type": "stream",
     "text": [
      "50 0.29429255340060234\n",
      "100 0.2941404785676598\n",
      "150 0.29321230891216177\n",
      "200 0.2937070839914594\n",
      "250 0.2936875575645466\n",
      "300 0.29380902608858833\n",
      "350 0.2939075698402062\n",
      "400 0.2937797754992669\n",
      "450 0.29403767151185944\n",
      "500 0.2942085825932956\n",
      "550 0.2942097952459867\n",
      "Lowest score n_estimators:150 MAE:0.29321230891216177\n"
     ]
    }
   ],
   "source": [
    "lowest_score = 10*100000\n",
    "for x in range(50,600,50):\n",
    "    model = RandomForestRegressor(n_estimators=x, random_state=1)\n",
    "    pipeline = Pipeline(steps=[('preprocessor', preprocessor),\n",
    "                              ('model', model)\n",
    "                             ])\n",
    "    score = get_mae(pipeline, X_train, X_val, y_train, y_val)\n",
    "    print(x,score)\n",
    "    if score < lowest_score:\n",
    "        lowest_x = x\n",
    "        lowest_score = score\n",
    "print('Lowest score n_estimators:'+ str(lowest_x),'MAE:' +str(lowest_score))"
   ]
  },
  {
   "cell_type": "code",
   "execution_count": null,
   "metadata": {},
   "outputs": [],
   "source": []
  },
  {
   "cell_type": "markdown",
   "metadata": {},
   "source": [
    "Now try with cat_cols_2 (including Age as a categorical variable)"
   ]
  },
  {
   "cell_type": "code",
   "execution_count": 35,
   "metadata": {},
   "outputs": [],
   "source": [
    "cat_cols_2 = ['Sex','Parch','Pclass','Age_cats', 'SibSp']"
   ]
  },
  {
   "cell_type": "code",
   "execution_count": 36,
   "metadata": {},
   "outputs": [],
   "source": [
    "preprocessor = ColumnTransformer(\n",
    "                transformers=[\n",
    "                    ('categorical',categorical_processor, cat_cols_2)\n",
    "                ])"
   ]
  },
  {
   "cell_type": "code",
   "execution_count": 37,
   "metadata": {},
   "outputs": [
    {
     "name": "stdout",
     "output_type": "stream",
     "text": [
      "50 0.281551679735501\n",
      "100 0.2793344615405572\n",
      "150 0.2784840848404271\n",
      "200 0.27952054699510515\n",
      "250 0.2789171815817583\n",
      "300 0.2790519361449505\n",
      "350 0.2792321320371091\n",
      "400 0.27875654116608034\n",
      "450 0.27892323028065685\n",
      "500 0.279059742768756\n",
      "550 0.2790958090496533\n",
      "Lowest score n_estimators:150 MAE:0.2784840848404271\n"
     ]
    }
   ],
   "source": [
    "lowest_score = 10*100000\n",
    "for x in range(50,600,50):\n",
    "    model = RandomForestRegressor(n_estimators=x, random_state=1)\n",
    "    pipeline = Pipeline(steps=[('preprocessor', preprocessor),\n",
    "                              ('model', model)\n",
    "                             ])\n",
    "    score = get_mae(pipeline, X_train, X_val, y_train, y_val)\n",
    "    print(x,score)\n",
    "    if score < lowest_score:\n",
    "        lowest_x = x\n",
    "        lowest_score = score\n",
    "print('Lowest score n_estimators:'+ str(lowest_x),'MAE:' +str(lowest_score))"
   ]
  },
  {
   "cell_type": "markdown",
   "metadata": {},
   "source": [
    "Now including imputed age and fare"
   ]
  },
  {
   "cell_type": "code",
   "execution_count": 38,
   "metadata": {},
   "outputs": [],
   "source": [
    "numerical_cols_2 = ['Age','Fare']"
   ]
  },
  {
   "cell_type": "code",
   "execution_count": 39,
   "metadata": {},
   "outputs": [],
   "source": [
    "num_processor = SimpleImputer(strategy='mean')"
   ]
  },
  {
   "cell_type": "code",
   "execution_count": 40,
   "metadata": {},
   "outputs": [],
   "source": [
    "preprocessor = ColumnTransformer(\n",
    "                transformers=[\n",
    "                    ('numerical',num_processor, numerical_cols_2),\n",
    "                    ('categorical',categorical_processor, cat_cols_2)\n",
    "                ])"
   ]
  },
  {
   "cell_type": "code",
   "execution_count": 41,
   "metadata": {},
   "outputs": [
    {
     "name": "stdout",
     "output_type": "stream",
     "text": [
      "50 0.2614653712007972\n",
      "100 0.2602474876891917\n",
      "150 0.25903683868033645\n",
      "200 0.25870886966795037\n",
      "250 0.2584209811613399\n",
      "300 0.25995466392103167\n",
      "350 0.2601916477358502\n",
      "400 0.25936498096447647\n",
      "450 0.2599200998857202\n",
      "500 0.2593699667049443\n",
      "550 0.25888134142435\n",
      "Lowest score n_estimators:250 MAE:0.2584209811613399\n"
     ]
    }
   ],
   "source": [
    "lowest_score = 10*100000\n",
    "for x in range(50,600,50):\n",
    "    model = RandomForestRegressor(n_estimators=x, random_state=1)\n",
    "    pipeline = Pipeline(steps=[('preprocessor', preprocessor),\n",
    "                              ('model', model)\n",
    "                             ])\n",
    "    score = get_mae(pipeline, X_train, X_val, y_train, y_val)\n",
    "    print(x,score)\n",
    "    if score < lowest_score:\n",
    "        lowest_x = x\n",
    "        lowest_score = score\n",
    "print('Lowest score n_estimators:'+ str(lowest_x),'MAE:' +str(lowest_score))"
   ]
  },
  {
   "cell_type": "markdown",
   "metadata": {},
   "source": [
    "Impute with median instead of mean"
   ]
  },
  {
   "cell_type": "code",
   "execution_count": 42,
   "metadata": {},
   "outputs": [
    {
     "name": "stdout",
     "output_type": "stream",
     "text": [
      "50 0.26070378674638767\n",
      "100 0.2599267531173361\n",
      "150 0.2588429458765782\n",
      "200 0.2582292091938953\n",
      "250 0.25849631748420987\n",
      "300 0.25998980877119887\n",
      "350 0.26041276667670005\n",
      "400 0.25951508506441245\n",
      "450 0.25987191140255417\n",
      "500 0.25949012472330857\n",
      "550 0.25898772233790573\n",
      "Lowest score n_estimators:200 MAE:0.2582292091938953\n"
     ]
    }
   ],
   "source": [
    "num_processor = SimpleImputer(strategy='median')\n",
    "preprocessor = ColumnTransformer(\n",
    "                transformers=[\n",
    "                    ('numerical',num_processor, numerical_cols_2),\n",
    "                    ('categorical',categorical_processor, cat_cols_2)\n",
    "                ])\n",
    "lowest_score = 10*100000\n",
    "for x in range(50,600,50):\n",
    "    model = RandomForestRegressor(n_estimators=x, random_state=1)\n",
    "    pipeline = Pipeline(steps=[('preprocessor', preprocessor),\n",
    "                              ('model', model)\n",
    "                             ])\n",
    "    score = get_mae(pipeline, X_train, X_val, y_train, y_val)\n",
    "    print(x,score)\n",
    "    if score < lowest_score:\n",
    "        lowest_x = x\n",
    "        lowest_score = score\n",
    "print('Lowest score n_estimators:'+ str(lowest_x),'MAE:' +str(lowest_score))"
   ]
  },
  {
   "cell_type": "code",
   "execution_count": 43,
   "metadata": {},
   "outputs": [],
   "source": [
    "num_processor = SimpleImputer(strategy='mean')\n",
    "categorical_processor = Pipeline(steps=[('onehot', OneHotEncoder(handle_unknown='ignore', sparse=False))])"
   ]
  },
  {
   "cell_type": "code",
   "execution_count": null,
   "metadata": {},
   "outputs": [],
   "source": []
  },
  {
   "cell_type": "code",
   "execution_count": 44,
   "metadata": {},
   "outputs": [],
   "source": [
    "numerical_cols_2 = ['Age','Fare']"
   ]
  },
  {
   "cell_type": "code",
   "execution_count": 45,
   "metadata": {},
   "outputs": [
    {
     "data": {
      "text/plain": [
       "Index(['PassengerId', 'Pclass', 'Name', 'Sex', 'Age', 'SibSp', 'Parch',\n",
       "       'Ticket', 'Fare', 'Cabin', 'Embarked'],\n",
       "      dtype='object')"
      ]
     },
     "execution_count": 45,
     "metadata": {},
     "output_type": "execute_result"
    }
   ],
   "source": [
    "X_test.columns"
   ]
  },
  {
   "cell_type": "code",
   "execution_count": 46,
   "metadata": {},
   "outputs": [],
   "source": [
    "X.drop(columns=['Age_cats','Age_fill'],inplace=True)"
   ]
  },
  {
   "cell_type": "code",
   "execution_count": 47,
   "metadata": {},
   "outputs": [],
   "source": [
    "cat_cols_3 = ['Sex','Parch','Pclass','SibSp']\n",
    "numerical_cols_2 = ['Age','Fare']\n",
    "model = RandomForestRegressor(n_estimators=200, random_state=1)\n",
    "preprocessor = ColumnTransformer(\n",
    "                transformers=[\n",
    "                    ('numerical',num_processor, numerical_cols_2),\n",
    "                    ('categorical',categorical_processor, cat_cols_3)\n",
    "                ])\n",
    "pipeline = Pipeline(steps=[('preprocessor', preprocessor),\n",
    "                              ('model', model)\n",
    "                             ])\n",
    "pipeline.fit(X, y)\n",
    "predictions = pipeline.predict(X_test)\n",
    "predictions = predictions.astype(int)\n"
   ]
  },
  {
   "cell_type": "code",
   "execution_count": 48,
   "metadata": {},
   "outputs": [
    {
     "data": {
      "text/plain": [
       "Index(['PassengerId', 'Pclass', 'Name', 'Sex', 'Age', 'SibSp', 'Parch',\n",
       "       'Ticket', 'Fare', 'Cabin', 'Embarked'],\n",
       "      dtype='object')"
      ]
     },
     "execution_count": 48,
     "metadata": {},
     "output_type": "execute_result"
    }
   ],
   "source": [
    "X.columns"
   ]
  },
  {
   "cell_type": "code",
   "execution_count": 49,
   "metadata": {},
   "outputs": [
    {
     "data": {
      "text/plain": [
       "Index(['PassengerId', 'Pclass', 'Name', 'Sex', 'Age', 'SibSp', 'Parch',\n",
       "       'Ticket', 'Fare', 'Cabin', 'Embarked'],\n",
       "      dtype='object')"
      ]
     },
     "execution_count": 49,
     "metadata": {},
     "output_type": "execute_result"
    }
   ],
   "source": [
    "X_test.columns"
   ]
  },
  {
   "cell_type": "code",
   "execution_count": 50,
   "metadata": {},
   "outputs": [
    {
     "data": {
      "text/plain": [
       "array([0, 0, 0, 0, 0, 0, 0, 0, 0, 0, 0, 0, 1, 0, 1, 0, 0, 0, 0, 0, 0, 0,\n",
       "       1, 0, 0, 0, 1, 0, 0, 0, 0, 0, 0, 0, 0, 0, 0, 0, 0, 0, 0, 0, 0, 1,\n",
       "       1, 0, 0, 0, 0, 0, 0, 0, 0, 0, 0, 0, 0, 0, 0, 1, 0, 0, 0, 0, 0, 0,\n",
       "       0, 0, 0, 0, 0, 0, 0, 0, 1, 0, 0, 0, 0, 0, 0, 0, 0, 0, 0, 0, 0, 0,\n",
       "       0, 0, 0, 0, 0, 0, 0, 0, 0, 0, 0, 0, 0, 0, 0, 0, 0, 0, 0, 0, 0, 0,\n",
       "       0, 0, 1, 0, 0, 0, 0, 0, 0, 1, 0, 0, 1, 0, 0, 0, 0, 0, 0, 0, 0, 0,\n",
       "       0, 0, 0, 0, 0, 0, 0, 0, 0, 0, 0, 0, 0, 0, 0, 0, 0, 0, 1, 0, 0, 0,\n",
       "       0, 0, 1, 0, 0, 0, 0, 0, 0, 0, 0, 0, 0, 0, 0, 0, 0, 0, 0, 0, 0, 1,\n",
       "       1, 0, 1, 0, 0, 0, 1, 0, 0, 0, 0, 0, 0, 0, 0, 0, 0, 0, 0, 0, 0, 0,\n",
       "       0, 0, 0, 0, 0, 0, 0, 0, 0, 0, 0, 0, 0, 0, 0, 0, 0, 0, 0, 0, 0, 0,\n",
       "       0, 0, 0, 0, 0, 0, 0, 0, 0, 0, 0, 0, 0, 0, 0, 0, 0, 0, 0, 1, 0, 0,\n",
       "       0, 0, 0, 0, 0, 0, 1, 0, 0, 0, 0, 0, 0, 0, 0, 0, 0, 0, 0, 0, 1, 0,\n",
       "       0, 0, 0, 0, 0, 0, 0, 0, 0, 0, 0, 0, 0, 0, 0, 0, 0, 0, 0, 0, 0, 0,\n",
       "       0, 0, 0, 0, 0, 0, 0, 0, 0, 0, 0, 0, 0, 0, 0, 0, 0, 0, 0, 0, 0, 0,\n",
       "       0, 0, 0, 0, 0, 0, 0, 0, 0, 0, 0, 0, 0, 0, 0, 0, 1, 0, 1, 0, 0, 0,\n",
       "       0, 0, 0, 0, 0, 0, 0, 0, 0, 0, 0, 0, 0, 0, 0, 0, 0, 0, 0, 0, 1, 0,\n",
       "       0, 0, 0, 0, 0, 0, 0, 0, 0, 1, 0, 0, 0, 0, 0, 0, 1, 0, 0, 1, 0, 0,\n",
       "       1, 0, 0, 0, 0, 0, 0, 0, 0, 0, 0, 0, 0, 0, 0, 0, 0, 0, 0, 0, 0, 1,\n",
       "       0, 1, 0, 0, 0, 0, 1, 0, 0, 0, 0, 0, 0, 0, 0, 1, 0, 0, 1, 0, 0, 0])"
      ]
     },
     "execution_count": 50,
     "metadata": {},
     "output_type": "execute_result"
    }
   ],
   "source": [
    "predictions"
   ]
  },
  {
   "cell_type": "code",
   "execution_count": 51,
   "metadata": {},
   "outputs": [],
   "source": [
    "predictions = pd.Series(predictions, name='Survived')"
   ]
  },
  {
   "cell_type": "code",
   "execution_count": 52,
   "metadata": {},
   "outputs": [],
   "source": [
    "submission = pd.DataFrame(data = {'PassengerId':X_test.PassengerId, 'Survived':predictions})"
   ]
  },
  {
   "cell_type": "code",
   "execution_count": 53,
   "metadata": {},
   "outputs": [],
   "source": [
    "submission.to_csv('submission.csv',index=False)"
   ]
  }
 ],
 "metadata": {
  "kernelspec": {
   "display_name": "Python 3",
   "language": "python",
   "name": "python3"
  },
  "language_info": {
   "codemirror_mode": {
    "name": "ipython",
    "version": 3
   },
   "file_extension": ".py",
   "mimetype": "text/x-python",
   "name": "python",
   "nbconvert_exporter": "python",
   "pygments_lexer": "ipython3",
   "version": "3.6.6"
  }
 },
 "nbformat": 4,
 "nbformat_minor": 1
}
